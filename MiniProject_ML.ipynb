{
  "nbformat": 4,
  "nbformat_minor": 0,
  "metadata": {
    "colab": {
      "name": "MiniProject-ML.ipynb",
      "provenance": [],
      "collapsed_sections": [],
      "authorship_tag": "ABX9TyMcYV+YVAHOMMvGGAyGX7gx",
      "include_colab_link": true
    },
    "kernelspec": {
      "name": "python3",
      "display_name": "Python 3"
    }
  },
  "cells": [
    {
      "cell_type": "markdown",
      "metadata": {
        "id": "view-in-github",
        "colab_type": "text"
      },
      "source": [
        "<a href=\"https://colab.research.google.com/github/YashDarapu/Mini_Project/blob/main/MiniProject_ML.ipynb\" target=\"_parent\"><img src=\"https://colab.research.google.com/assets/colab-badge.svg\" alt=\"Open In Colab\"/></a>"
      ]
    },
    {
      "cell_type": "markdown",
      "metadata": {
        "id": "NU94VJSWQWAS"
      },
      "source": [
        " **IMAGE CLASSIFICATION**"
      ]
    },
    {
      "cell_type": "code",
      "metadata": {
        "colab": {
          "base_uri": "https://localhost:8080/"
        },
        "id": "9L82NDLzFfLD",
        "outputId": "d9ea8bfb-41e6-4b2e-b149-0d7a8bb254d1"
      },
      "source": [
        "!pip install ipython-autotime\r\n",
        "%load_ext autotime\r\n",
        "\r\n",
        "!pip install bing-image-downloader "
      ],
      "execution_count": 1,
      "outputs": [
        {
          "output_type": "stream",
          "text": [
            "Collecting ipython-autotime\n",
            "  Downloading https://files.pythonhosted.org/packages/b4/c9/b413a24f759641bc27ef98c144b590023c8038dfb8a3f09e713e9dff12c1/ipython_autotime-0.3.1-py2.py3-none-any.whl\n",
            "Requirement already satisfied: ipython in /usr/local/lib/python3.6/dist-packages (from ipython-autotime) (5.5.0)\n",
            "Requirement already satisfied: pickleshare in /usr/local/lib/python3.6/dist-packages (from ipython->ipython-autotime) (0.7.5)\n",
            "Requirement already satisfied: pexpect; sys_platform != \"win32\" in /usr/local/lib/python3.6/dist-packages (from ipython->ipython-autotime) (4.8.0)\n",
            "Requirement already satisfied: pygments in /usr/local/lib/python3.6/dist-packages (from ipython->ipython-autotime) (2.6.1)\n",
            "Requirement already satisfied: setuptools>=18.5 in /usr/local/lib/python3.6/dist-packages (from ipython->ipython-autotime) (53.0.0)\n",
            "Requirement already satisfied: simplegeneric>0.8 in /usr/local/lib/python3.6/dist-packages (from ipython->ipython-autotime) (0.8.1)\n",
            "Requirement already satisfied: prompt-toolkit<2.0.0,>=1.0.4 in /usr/local/lib/python3.6/dist-packages (from ipython->ipython-autotime) (1.0.18)\n",
            "Requirement already satisfied: decorator in /usr/local/lib/python3.6/dist-packages (from ipython->ipython-autotime) (4.4.2)\n",
            "Requirement already satisfied: traitlets>=4.2 in /usr/local/lib/python3.6/dist-packages (from ipython->ipython-autotime) (4.3.3)\n",
            "Requirement already satisfied: ptyprocess>=0.5 in /usr/local/lib/python3.6/dist-packages (from pexpect; sys_platform != \"win32\"->ipython->ipython-autotime) (0.7.0)\n",
            "Requirement already satisfied: wcwidth in /usr/local/lib/python3.6/dist-packages (from prompt-toolkit<2.0.0,>=1.0.4->ipython->ipython-autotime) (0.2.5)\n",
            "Requirement already satisfied: six>=1.9.0 in /usr/local/lib/python3.6/dist-packages (from prompt-toolkit<2.0.0,>=1.0.4->ipython->ipython-autotime) (1.15.0)\n",
            "Requirement already satisfied: ipython-genutils in /usr/local/lib/python3.6/dist-packages (from traitlets>=4.2->ipython->ipython-autotime) (0.2.0)\n",
            "Installing collected packages: ipython-autotime\n",
            "Successfully installed ipython-autotime-0.3.1\n",
            "Collecting bing-image-downloader\n",
            "  Downloading https://files.pythonhosted.org/packages/0d/bf/537a61030b84ae4cd5022d5c7b014fd9bc3ce7c02358919153a6658a61d3/bing_image_downloader-1.0.4-py3-none-any.whl\n",
            "Installing collected packages: bing-image-downloader\n",
            "Successfully installed bing-image-downloader-1.0.4\n",
            "time: 2.83 s (started: 2021-02-22 08:50:50 +00:00)\n"
          ],
          "name": "stdout"
        }
      ]
    },
    {
      "cell_type": "code",
      "metadata": {
        "colab": {
          "base_uri": "https://localhost:8080/"
        },
        "id": "dfwhj-m3Fytj",
        "outputId": "65c23426-c97a-4272-ebf5-f7e48de98cbd"
      },
      "source": [
        "!mkdir Images"
      ],
      "execution_count": 2,
      "outputs": [
        {
          "output_type": "stream",
          "text": [
            "time: 119 ms (started: 2021-02-22 08:50:56 +00:00)\n"
          ],
          "name": "stdout"
        }
      ]
    },
    {
      "cell_type": "code",
      "metadata": {
        "colab": {
          "base_uri": "https://localhost:8080/"
        },
        "id": "d5cUw7SVFzBh",
        "outputId": "74c3b465-8260-4bc9-b220-9cc625b5a7e6"
      },
      "source": [
        "#Gathering data using Bing Downloader\r\n",
        "\r\n",
        "from bing_image_downloader import downloader\r\n",
        "downloader.download(\"Eagle\",limit=70,output_dir='Images',adult_filter_off=True)\r\n",
        "\r\n",
        "downloader.download(\"Sun-Set\",limit=70,output_dir='Images',adult_filter_off=True)\r\n",
        "\r\n",
        "downloader.download(\"Rainbow\",limit=70,output_dir='Images',adult_filter_off=True)\r\n"
      ],
      "execution_count": 3,
      "outputs": [
        {
          "output_type": "stream",
          "text": [
            "\n",
            "\n",
            "[!!]Indexing page: 1\n",
            "\n",
            "[%] Indexed 70 Images on Page 1.\n",
            "\n",
            "===============================================\n",
            "\n",
            "[%] Downloading Image #1 from https://raptor.umn.edu/sites/raptor.umn.edu/files/2020-03/Bald eagle - Adult.jpg\n",
            "[!] Issue getting: https://raptor.umn.edu/sites/raptor.umn.edu/files/2020-03/Bald eagle - Adult.jpg\n",
            "[!] Error:: URL can't contain control characters. '/sites/raptor.umn.edu/files/2020-03/Bald eagle - Adult.jpg' (found at least ' ')\n",
            "[%] Downloading Image #1 from https://www.josephfiler.com/images/xl/Bald-Eagle-1013-Edit.jpg\n",
            "[%] File Downloaded !\n",
            "\n",
            "[%] Downloading Image #2 from https://www.immortal.org/wp-content/uploads/2016/03/bald-eagle-1075023_1920.jpg\n",
            "[%] File Downloaded !\n",
            "\n",
            "[%] Downloading Image #3 from https://www.wesa.fm/sites/wesa/files/styles/x_large/public/201708/bald_eagle.jpg\n",
            "[%] File Downloaded !\n",
            "\n",
            "[%] Downloading Image #4 from http://mediad.publicbroadcasting.net/p/wkms/files/styles/x_large/public/201810/bald_eagle.mc2_.jpg\n",
            "[%] File Downloaded !\n",
            "\n",
            "[%] Downloading Image #5 from https://cdn.outdoorhub.com/wp-content/uploads/sites/2/2012/03/Bald-Eagle.jpg\n",
            "[%] File Downloaded !\n",
            "\n",
            "[%] Downloading Image #6 from https://www.tn.gov/content/dam/tn/twra/images/birds/American-Bald-Eagle-Thomas-McEwen-001.jpg\n",
            "[%] File Downloaded !\n",
            "\n",
            "[%] Downloading Image #7 from https://www.shutterbug.com/images/photo_post/[uid]/Introspective Eagle.jpg\n",
            "[!] Issue getting: https://www.shutterbug.com/images/photo_post/[uid]/Introspective Eagle.jpg\n",
            "[!] Error:: URL can't contain control characters. '/images/photo_post/[uid]/Introspective Eagle.jpg' (found at least ' ')\n",
            "[%] Downloading Image #7 from https://media.spokesman.com/photos/2014/01/12/out_12_bald_eagle.jpg\n",
            "[%] File Downloaded !\n",
            "\n",
            "[%] Downloading Image #8 from https://www.allaboutbirds.org/news/wp-content/uploads/2019/05/Philippine-Eagle-Arnal.jpg\n",
            "[%] File Downloaded !\n",
            "\n",
            "[%] Downloading Image #9 from https://vt.audubon.org/sites/default/files/styles/hero_image/public/apa-2017_bald-eagle_p1_4047_2_bonnie-block_kk.jpg?itok=aCwHC_ku\n",
            "[%] File Downloaded !\n",
            "\n",
            "[%] Downloading Image #10 from https://eskipaper.com/images/eagle-2.jpg\n",
            "[%] File Downloaded !\n",
            "\n",
            "[%] Downloading Image #11 from http://www.alabamabirdingtrails.com/wp-content/uploads/2012/02/Bald-eagle.jpg\n",
            "[%] File Downloaded !\n",
            "\n",
            "[%] Downloading Image #12 from https://www.josephfiler.com/images/xl/Bald-Eagle-1112-Edit.jpg\n",
            "[%] File Downloaded !\n",
            "\n",
            "[%] Downloading Image #13 from http://www.digital-images.net/Images/Raptors/Eagles/Alaska/BaldEagle_X2781.jpg\n",
            "[%] File Downloaded !\n",
            "\n",
            "[%] Downloading Image #14 from https://www.czs.org/getattachment/Brookfield-ZOO/Learning/blogs/June-2020/Celebrate-American-Eagle-Day-With-Brookfield-Zoo/DSC_6356-Zues-Bald-Eagle.jpg.aspx\n",
            "[%] File Downloaded !\n",
            "\n",
            "[%] Downloading Image #15 from https://1.bp.blogspot.com/-Q0yK8ECyaZo/TVqZFfLQiJI/AAAAAAAAH9U/YG4ndRrewOM/s1600/eagle+%252812%2529.jpg\n",
            "[%] File Downloaded !\n",
            "\n",
            "[%] Downloading Image #16 from http://cdn0.wideopenspaces.com/wp-content/uploads/2015/02/Eagle_Eye.jpg\n",
            "[%] File Downloaded !\n",
            "\n",
            "[%] Downloading Image #17 from https://www.taxidermy.co.uk/wp-content/uploads/2013/12/Bald-Eagle_Haliaeetus-leucocephalus-9.jpg\n",
            "[%] File Downloaded !\n",
            "\n",
            "[%] Downloading Image #18 from https://cdn.britannica.com/s:700x500/92/152292-050-EAF28A45/Bald-eagle.jpg\n",
            "[Error]Invalid image, not saving https://cdn.britannica.com/s:700x500/92/152292-050-EAF28A45/Bald-eagle.jpg\n",
            "\n",
            "[!] Issue getting: https://cdn.britannica.com/s:700x500/92/152292-050-EAF28A45/Bald-eagle.jpg\n",
            "[!] Error:: No active exception to reraise\n",
            "[%] Downloading Image #18 from https://www.cmzoo.org/wp-content/uploads/eagle.jpg\n",
            "[%] File Downloaded !\n",
            "\n",
            "[%] Downloading Image #19 from https://commonsenseevaluation.com/wp-content/uploads/2013/04/Bald-Eagle-Portrait.jpg\n",
            "[%] File Downloaded !\n",
            "\n",
            "[%] Downloading Image #20 from https://www.eaglewingtours.com/app/uploads/2015/02/Bald-Eagles-have-a-6-foot-wing-span.jpg\n",
            "[%] File Downloaded !\n",
            "\n",
            "[%] Downloading Image #21 from https://upload.wikimedia.org/wikipedia/commons/thumb/9/96/Golden_eagle.jpg/1200px-Golden_eagle.jpg\n",
            "[%] File Downloaded !\n",
            "\n",
            "[%] Downloading Image #22 from http://japari-library.com/w/images/4/4b/KF3_Bald_Eagle_(Photo).png\n",
            "[%] File Downloaded !\n",
            "\n",
            "[%] Downloading Image #23 from https://www.wallpaperflare.com/static/73/81/144/eagle-birds-animals-brown-wallpaper.jpg\n",
            "[%] File Downloaded !\n",
            "\n",
            "[%] Downloading Image #24 from https://upload.wikimedia.org/wikipedia/commons/thumb/8/87/African_fish_eagle_(Haliaeetus_vocifer)_Ethiopia.jpg/1200px-African_fish_eagle_(Haliaeetus_vocifer)_Ethiopia.jpg\n",
            "[Error]Invalid image, not saving https://upload.wikimedia.org/wikipedia/commons/thumb/8/87/African_fish_eagle_(Haliaeetus_vocifer)_Ethiopia.jpg/1200px-African_fish_eagle_(Haliaeetus_vocifer)_Ethiopia.jpg\n",
            "\n",
            "[!] Issue getting: https://upload.wikimedia.org/wikipedia/commons/thumb/8/87/African_fish_eagle_(Haliaeetus_vocifer)_Ethiopia.jpg/1200px-African_fish_eagle_(Haliaeetus_vocifer)_Ethiopia.jpg\n",
            "[!] Error:: No active exception to reraise\n",
            "[%] Downloading Image #24 from https://upload.wikimedia.org/wikipedia/commons/4/45/Steppe_Eagle_Portrait.jpg\n",
            "[%] File Downloaded !\n",
            "\n",
            "[%] Downloading Image #25 from http://vt.audubon.org/sites/default/files/styles/hero_mobile/public/red_2_k_2014_by_doug_gimler.jpg?itok=IMyCDGkd\n",
            "[%] File Downloaded !\n",
            "\n",
            "[%] Downloading Image #26 from https://weknowyourdreams.com/images/eagle/eagle-12.jpg\n",
            "[!] Issue getting: https://weknowyourdreams.com/images/eagle/eagle-12.jpg\n",
            "[!] Error:: <urlopen error [SSL: CERTIFICATE_VERIFY_FAILED] certificate verify failed (_ssl.c:852)>\n",
            "[%] Downloading Image #26 from https://ktar.com/wp-content/uploads/2018/12/bald-eagle.jpg\n",
            "[%] File Downloaded !\n",
            "\n",
            "[%] Downloading Image #27 from http://www.spirit-animals.com/wp-content/uploads/2012/09/Eagle-Bald.jpg\n",
            "[%] File Downloaded !\n",
            "\n",
            "[%] Downloading Image #28 from https://largest.org/wp-content/uploads/2018/11/Martial_Eagle_at_Samburu.jpg\n",
            "[%] File Downloaded !\n",
            "\n",
            "[%] Downloading Image #29 from http://www.birdspix.com/wp-content/uploads/2011/12/Bald-Eagle-1141.jpg\n",
            "[%] File Downloaded !\n",
            "\n",
            "[%] Downloading Image #30 from https://animals.sandiegozoo.org/sites/default/files/2016-08/animals_hero_bald_eagle.jpg\n",
            "[%] File Downloaded !\n",
            "\n",
            "[%] Downloading Image #31 from https://i1.wp.com/ebcky.com/wp/wp-content/uploads/2019/08/does-an-eagle-carry-its-young-on-its-wings.jpg?fit=1200%2C628&amp;ssl=1\n",
            "[%] File Downloaded !\n",
            "\n",
            "[%] Downloading Image #32 from http://cincinnatizoo.org/system/assets/uploads/2011/07/bald-eagle-web.jpg\n",
            "[%] File Downloaded !\n",
            "\n",
            "[%] Downloading Image #33 from https://industryportage.files.wordpress.com/2013/05/eagle1.jpg\n",
            "[%] File Downloaded !\n",
            "\n",
            "[%] Downloading Image #34 from https://www.whats-your-sign.com/wp-content/uploads/2018/03/EagleMeaning1.jpg\n",
            "[%] File Downloaded !\n",
            "\n",
            "[%] Downloading Image #35 from https://www.hdwallpapers.in/download/bald_eagle_hd_wide-wide.jpg\n",
            "[%] File Downloaded !\n",
            "\n",
            "[%] Downloading Image #36 from http://www.audubon.org/sites/default/files/web_apa_2013_28475_226115_clydedexter_bald_eagle_kk.jpg\n",
            "[!] Issue getting: http://www.audubon.org/sites/default/files/web_apa_2013_28475_226115_clydedexter_bald_eagle_kk.jpg\n",
            "[!] Error:: HTTP Error 404: Not Found\n",
            "[%] Downloading Image #36 from https://www.bizpacreview.com/wp-content/uploads/2013/12/Bald_eagle_head_frontal.jpg\n",
            "[%] File Downloaded !\n",
            "\n",
            "[%] Downloading Image #37 from http://nhest.org/wp-content/uploads/2019/12/juvenile-bald-eagle.jpg\n",
            "[%] File Downloaded !\n",
            "\n",
            "[%] Downloading Image #38 from https://hdwallpapers.move.pk/wp-content/uploads/2015/03/black-eagle-flying.jpg\n",
            "[%] File Downloaded !\n",
            "\n",
            "[%] Downloading Image #39 from https://dallasnews.imgix.net/1489121626-BALD_EAGLE_INDIANA_55500600.JPG?w=1200&amp;h=630&amp;format=jpg&amp;crop=faces&amp;fit=crop\n",
            "[%] File Downloaded !\n",
            "\n",
            "[%] Downloading Image #40 from https://media.spokesman.com/photos/2018/12/23/srx_Eagles_CDA_1_.jpg\n",
            "[%] File Downloaded !\n",
            "\n",
            "[%] Downloading Image #41 from https://1.bp.blogspot.com/-oUW3HVZ8SGI/TmmNLQesAbI/AAAAAAAAAJQ/bMyZIXe6bRE/s1600/bald-eagle-backgrounds-1-768567.jpg\n",
            "[%] File Downloaded !\n",
            "\n",
            "[%] Downloading Image #42 from https://www.amnh.org/var/ezflow_site/storage/images/media/amnh/images/explore/ology-images/biodiversity/what-is-biodiversity/bald-eagle-flying/3917214-1-eng-US/bald-eagle-flying.jpg\n",
            "[%] File Downloaded !\n",
            "\n",
            "[%] Downloading Image #43 from http://www.audubon.org/sites/default/files/sfw_apa_2013_29412_234505_scottmacdiarmid_golden_eagle_kk.jpg\n",
            "[!] Issue getting: http://www.audubon.org/sites/default/files/sfw_apa_2013_29412_234505_scottmacdiarmid_golden_eagle_kk.jpg\n",
            "[!] Error:: HTTP Error 404: Not Found\n",
            "[%] Downloading Image #43 from http://dreamicus.com/data/eagle/eagle-04.jpg\n",
            "[%] File Downloaded !\n",
            "\n",
            "[%] Downloading Image #44 from https://hdwallpapers.move.pk/wp-content/uploads/2015/03/eagle-attack-in-sea-fish.jpg\n",
            "[%] File Downloaded !\n",
            "\n",
            "[%] Downloading Image #45 from https://denverzoo.org/wp-content/uploads/2018/09/Bald-Eagle-Gallery2.jpeg\n",
            "[%] File Downloaded !\n",
            "\n",
            "[%] Downloading Image #46 from http://wildlifeinneed.org/wp-content/uploads/2014/09/serpent_eagle.jpg\n",
            "[%] File Downloaded !\n",
            "\n",
            "[%] Downloading Image #47 from https://www.kz-rv.com/vacation-planner/birds/images/Bald-Eagle.jpg\n",
            "[%] File Downloaded !\n",
            "\n",
            "[%] Downloading Image #48 from https://birdsofpreyforum.files.wordpress.com/2010/04/philippine-eagle-hdr2.jpg\n",
            "[%] File Downloaded !\n",
            "\n",
            "[%] Downloading Image #49 from https://securityelectronicsandnetworks.com/wp-content/uploads/2020/05/Eagle.jpg\n",
            "[%] File Downloaded !\n",
            "\n",
            "[%] Downloading Image #50 from https://upload.wikimedia.org/wikipedia/commons/c/cc/Philippine_eagle_2.jpg\n",
            "[%] File Downloaded !\n",
            "\n",
            "[%] Downloading Image #51 from http://www.utahbirds.org/birdsofutah/BirdsA-C_5/BaldEagleJoC2.jpg\n",
            "[%] File Downloaded !\n",
            "\n",
            "[%] Downloading Image #52 from https://animalcorner.co.uk/wp-content/uploads/2015/02/golden-eagle-1.jpg\n",
            "[%] File Downloaded !\n",
            "\n",
            "[%] Downloading Image #53 from https://s.hdnux.com/photos/31/00/54/6556431/5/rawImage.jpg\n",
            "[%] File Downloaded !\n",
            "\n",
            "[%] Downloading Image #54 from https://lazypenguins.com/wp-content/uploads/2017/04/African-Martial-Eagle-a.jpg\n",
            "[%] File Downloaded !\n",
            "\n",
            "[%] Downloading Image #55 from http://upload.wikimedia.org/wikipedia/commons/6/67/Bald_Eagle_Head_sq.jpg\n",
            "[%] File Downloaded !\n",
            "\n",
            "[%] Downloading Image #56 from https://images.fineartamerica.com/images/artworkimages/mediumlarge/1/bald-eagle-portrait-al-mueller.jpg\n",
            "[%] File Downloaded !\n",
            "\n",
            "[%] Downloading Image #57 from http://dreamicus.com/data/eagle/eagle-02.jpg\n",
            "[%] File Downloaded !\n",
            "\n",
            "[%] Downloading Image #58 from https://www.radiotoday.com.au/wp-content/uploads/Ronnie_Stanton/Eagle.png\n",
            "[%] File Downloaded !\n",
            "\n",
            "[%] Downloading Image #59 from https://www.lazoo.org/wp-new/wp-content/uploads/2019/07/Harpy-Eagle-JEP_2098_.jpg\n",
            "[Error]Invalid image, not saving https://www.lazoo.org/wp-new/wp-content/uploads/2019/07/Harpy-Eagle-JEP_2098_.jpg\n",
            "\n",
            "[!] Issue getting: https://www.lazoo.org/wp-new/wp-content/uploads/2019/07/Harpy-Eagle-JEP_2098_.jpg\n",
            "[!] Error:: No active exception to reraise\n",
            "[%] Downloading Image #59 from https://lyndalorraine.com/wp-content/uploads/2019/07/philippineeagle_edgeofexistence_alainpascua2.jpg\n",
            "[%] File Downloaded !\n",
            "\n",
            "[%] Downloading Image #60 from https://www.hdwallpapers.in/download/bald_eagle_on_brown_tree_branch_4k_hd-HD.jpg\n",
            "[%] File Downloaded !\n",
            "\n",
            "[%] Downloading Image #61 from https://www.birdsandblooms.com/wp-content/uploads/2020/07/Golden-eagle-landing.jpg\n",
            "[%] File Downloaded !\n",
            "\n",
            "[%] Downloading Image #62 from https://imgc.artprintimages.com/img/print/print/bald-eagle_a-l-8660741-4990875.jpg\n",
            "[%] File Downloaded !\n",
            "\n",
            "\n",
            "\n",
            "[!!]Indexing page: 2\n",
            "\n",
            "[%] Indexed 35 Images on Page 2.\n",
            "\n",
            "===============================================\n",
            "\n",
            "[%] Downloading Image #63 from https://www.immortal.org/wp-content/uploads/2016/03/bald-eagle-1075023_1920.jpg\n",
            "[%] File Downloaded !\n",
            "\n",
            "[%] Downloading Image #64 from https://raptor.umn.edu/sites/raptor.umn.edu/files/2020-03/Bald eagle - Adult.jpg\n",
            "[!] Issue getting: https://raptor.umn.edu/sites/raptor.umn.edu/files/2020-03/Bald eagle - Adult.jpg\n",
            "[!] Error:: URL can't contain control characters. '/sites/raptor.umn.edu/files/2020-03/Bald eagle - Adult.jpg' (found at least ' ')\n",
            "[%] Downloading Image #64 from https://media.spokesman.com/photos/2014/01/12/out_12_bald_eagle.jpg\n",
            "[%] File Downloaded !\n",
            "\n",
            "[%] Downloading Image #65 from http://www.alabamabirdingtrails.com/wp-content/uploads/2012/02/Bald-eagle.jpg\n",
            "[%] File Downloaded !\n",
            "\n",
            "[%] Downloading Image #66 from https://www.wesa.fm/sites/wesa/files/styles/x_large/public/201708/bald_eagle.jpg\n",
            "[%] File Downloaded !\n",
            "\n",
            "[%] Downloading Image #67 from https://www.josephfiler.com/images/xl/Bald-Eagle-1013-Edit.jpg\n",
            "[%] File Downloaded !\n",
            "\n",
            "[%] Downloading Image #68 from https://commonsenseevaluation.com/wp-content/uploads/2013/04/Bald-Eagle-Portrait.jpg\n",
            "[%] File Downloaded !\n",
            "\n",
            "[%] Downloading Image #69 from https://www.spirit-animals.com/wp-content/uploads/2012/09/Eagle-Bald.jpg\n",
            "[%] File Downloaded !\n",
            "\n",
            "[%] Downloading Image #70 from http://mediad.publicbroadcasting.net/p/wkms/files/styles/x_large/public/201810/bald_eagle.mc2_.jpg\n",
            "[%] File Downloaded !\n",
            "\n",
            "\n",
            "\n",
            "[%] Done. Downloaded 70 images.\n",
            "\n",
            "===============================================\n",
            "\n",
            "\n",
            "\n",
            "[!!]Indexing page: 1\n",
            "\n",
            "[%] Indexed 70 Images on Page 1.\n",
            "\n",
            "===============================================\n",
            "\n",
            "[%] Downloading Image #1 from https://images.freecreatives.com/wp-content/uploads/2015/10/amazing-ocean-sunset-wallpaper.jpg\n",
            "[%] File Downloaded !\n",
            "\n",
            "[%] Downloading Image #2 from http://wallup.net/wp-content/uploads/2015/12/258088-sunset-landscape-horizon.jpg\n",
            "[%] File Downloaded !\n",
            "\n",
            "[%] Downloading Image #3 from https://www.ontarioparks.com/parksblog/wp-content/uploads/2017/06/PointFarms_Sunset_.jpg\n",
            "[%] File Downloaded !\n",
            "\n",
            "[%] Downloading Image #4 from http://3.bp.blogspot.com/-AUjnGiI32dA/Uf8aPrtdUJI/AAAAAAAAAsE/TCYC1c1ruIY/s1600/Beautiful-Sunset-Wallpaper.jpg\n",
            "[%] File Downloaded !\n",
            "\n",
            "[%] Downloading Image #5 from http://www.desicomments.com/wallpapers/wp-content/uploads/2014/12/Beautiful-Sunset-View.jpg\n",
            "[%] File Downloaded !\n",
            "\n",
            "[%] Downloading Image #6 from https://upload.wikimedia.org/wikipedia/commons/a/a0/Yet_another_Indian_Ocean_sunset_near_Cervantes%2C_WA_%2813113588165%29.jpg\n",
            "[%] File Downloaded !\n",
            "\n",
            "[%] Downloading Image #7 from https://wallpapercave.com/wp/wp5697032.jpg\n",
            "[%] File Downloaded !\n",
            "\n",
            "[%] Downloading Image #8 from https://www.holidayhypermarket.co.uk/hype/wp-content/uploads/2015/02/sunset-aruba.jpg\n",
            "[%] File Downloaded !\n",
            "\n",
            "[%] Downloading Image #9 from https://images.cdn2.stockunlimited.net/preview1300/panoramic-sunset-scenery_1677764.jpg\n",
            "[%] File Downloaded !\n",
            "\n",
            "[%] Downloading Image #10 from https://www.hoppa.com/resource/blog/uploads/2016/05/oia-santorini-greece-sunset.jpg\n",
            "[Error]Invalid image, not saving https://www.hoppa.com/resource/blog/uploads/2016/05/oia-santorini-greece-sunset.jpg\n",
            "\n",
            "[!] Issue getting: https://www.hoppa.com/resource/blog/uploads/2016/05/oia-santorini-greece-sunset.jpg\n",
            "[!] Error:: No active exception to reraise\n",
            "[%] Downloading Image #10 from https://img.sunset02.com/sites/default/files/image/2016/12/main/newport-beach-sunset-1114.jpg\n",
            "[%] File Downloaded !\n",
            "\n",
            "[%] Downloading Image #11 from https://wheninyourstate.com/wp-content/uploads/2016/08/hawaiipictureoftheday.com_.jpg\n",
            "[%] File Downloaded !\n",
            "\n",
            "[%] Downloading Image #12 from https://cdn.onlyinyourstate.com/wp-content/uploads/2015/06/NJ-Edward-Forsythe-Sunset.jpg\n",
            "[%] File Downloaded !\n",
            "\n",
            "[%] Downloading Image #13 from https://d2studios.net/wp-content/uploads/blog/2016/03/sunset.jpg\n",
            "[%] File Downloaded !\n",
            "\n",
            "[%] Downloading Image #14 from https://cdn.photographylife.com/wp-content/uploads/2017/05/img013-1200-copy.jpg\n",
            "[%] File Downloaded !\n",
            "\n",
            "[%] Downloading Image #15 from https://weknowyourdreams.com/images/sunset/sunset-03.jpg\n",
            "[!] Issue getting: https://weknowyourdreams.com/images/sunset/sunset-03.jpg\n",
            "[!] Error:: <urlopen error [SSL: CERTIFICATE_VERIFY_FAILED] certificate verify failed (_ssl.c:852)>\n",
            "[%] Downloading Image #15 from https://jooinn.com/images/sunset-532.png\n",
            "[%] File Downloaded !\n",
            "\n",
            "[%] Downloading Image #16 from https://wallup.net/wp-content/uploads/2014/10/nature/Beach_Golden_Sunset.jpg\n",
            "[%] File Downloaded !\n",
            "\n",
            "[%] Downloading Image #17 from https://hddesktopwallpapers.in/wp-content/uploads/2015/08/sunset-wallpapers-waves-orange.jpg\n",
            "[%] File Downloaded !\n",
            "\n",
            "[%] Downloading Image #18 from https://www.yannickdixon.com/wp-content/uploads/2016/12/161124-golden-seaside-sunset.jpg\n",
            "[%] File Downloaded !\n",
            "\n",
            "[%] Downloading Image #19 from https://thewallpaper.co/wp-content/uploads/2017/10/tree-lonely-sunset-sunrise-landscape-nature-sun-reflection.jpg\n",
            "[!] Issue getting: https://thewallpaper.co/wp-content/uploads/2017/10/tree-lonely-sunset-sunrise-landscape-nature-sun-reflection.jpg\n",
            "[!] Error:: HTTP Error 404: Not Found\n",
            "[%] Downloading Image #19 from http://www.meinmaine.com/wp-content/uploads/2015/07/mainesunset25.jpg\n",
            "[%] File Downloaded !\n",
            "\n",
            "[%] Downloading Image #20 from https://www.youramazingplaces.com/wp-content/uploads/2013/03/sunset-venicela_980x551.jpg\n",
            "[%] File Downloaded !\n",
            "\n",
            "[%] Downloading Image #21 from https://external-preview.redd.it/-EU0m-af6UUrxEL3kWBMSYOP64as-QOFzKZOsbQuNls.jpg?auto=webp&amp;s=2e47004503906e5c572a7da7493fc4f435ef7019\n",
            "[!] Issue getting: https://external-preview.redd.it/-EU0m-af6UUrxEL3kWBMSYOP64as-QOFzKZOsbQuNls.jpg?auto=webp&amp;s=2e47004503906e5c572a7da7493fc4f435ef7019\n",
            "[!] Error:: HTTP Error 403: Forbidden\n",
            "[%] Downloading Image #21 from http://img.xcitefun.net/users/2014/07/359040,xcitefun-sunset-beach-3.jpg\n",
            "[%] File Downloaded !\n",
            "\n",
            "[%] Downloading Image #22 from https://allhdwallpapers.com/wp-content/uploads/2015/05/sunset-8.jpg\n",
            "[%] File Downloaded !\n",
            "\n",
            "[%] Downloading Image #23 from https://www.pentaxforums.com/forums/attachments/12-post-your-photos/97185d1310450471-landscape-rainbow-sunset-rainbow-sunset.jpg\n",
            "[%] File Downloaded !\n",
            "\n",
            "[%] Downloading Image #24 from https://wallup.net/wp-content/uploads/2019/05/10/1025515-nature-landscape-beauty-beach-blue-sunset-sky-clouds.jpg\n",
            "[%] File Downloaded !\n",
            "\n",
            "[%] Downloading Image #25 from https://www.pitara.com/media/whys-the-sun-red-during-sunrise-and-sunset.jpg\n",
            "[%] File Downloaded !\n",
            "\n",
            "[%] Downloading Image #26 from http://wallup.net/wp-content/uploads/2017/03/29/487007-sunset-sky.jpg\n",
            "[%] File Downloaded !\n",
            "\n",
            "[%] Downloading Image #27 from https://www.lyonsholidayparks.co.uk/wp-content/uploads/sunset.jpg\n",
            "[%] File Downloaded !\n",
            "\n",
            "[%] Downloading Image #28 from http://www.androidguys.com/wp-content/uploads/2016/01/summer-sunset-293095.jpg\n",
            "[%] File Downloaded !\n",
            "\n",
            "[%] Downloading Image #29 from http://publicdomainpictures.net/pictures/30000/velka/sunset-15.jpg\n",
            "[%] File Downloaded !\n",
            "\n",
            "[%] Downloading Image #30 from https://www.tourmaui.com/wp-content/uploads/Sunset-from-Haleakala-1030x661.jpg\n",
            "[%] File Downloaded !\n",
            "\n",
            "[%] Downloading Image #31 from https://wallpapercave.com/wp/wp5697009.jpg\n",
            "[%] File Downloaded !\n",
            "\n",
            "[%] Downloading Image #32 from https://d2v9y0dukr6mq2.cloudfront.net/video/thumbnail/prNfACS/videoblocks-sunset-sky-reflection-in-river-water-time-lapse-4k_bvjogvhcl_thumbnail-full01.png\n",
            "[%] File Downloaded !\n",
            "\n",
            "[%] Downloading Image #33 from https://www.desicomments.com/wallpapers/wp-content/uploads/2014/12/Sunset-Over-Mountains.jpg\n",
            "[%] File Downloaded !\n",
            "\n",
            "[%] Downloading Image #34 from https://sfhog.com/wp-content/uploads/2015/03/Ocean-Beach-Sunset-San-Francisco-Feb-2015-Closeup-1.jpg\n",
            "[%] File Downloaded !\n",
            "\n",
            "[%] Downloading Image #35 from https://feedthemgallery.com/wp-content/uploads/2017/09/Sunset_2166-1500x1000.jpg\n",
            "[%] File Downloaded !\n",
            "\n",
            "[%] Downloading Image #36 from http://thewowstyle.com/wp-content/uploads/2015/04/sunrise-sunset-picture.jpg\n",
            "[%] File Downloaded !\n",
            "\n",
            "[%] Downloading Image #37 from https://paulunderhill.com/wp-content/uploads/2013/08/Sunset-photography-Dorset-Fuji-X100s.jpg\n",
            "[%] File Downloaded !\n",
            "\n",
            "[%] Downloading Image #38 from https://www.tourmaui.com/wp-content/uploads/2014/10/Maui-Photography-Upcountry-Sunset.jpg\n",
            "[%] File Downloaded !\n",
            "\n",
            "[%] Downloading Image #39 from https://www.holidayhypermarket.co.uk/hype/wp-content/uploads/2014/07/Oia-sunset.jpg\n",
            "[%] File Downloaded !\n",
            "\n",
            "[%] Downloading Image #40 from https://www.tourmaui.com/wp-content/uploads/Kahana-Evening-Sunset-Waves.jpg\n",
            "[%] File Downloaded !\n",
            "\n",
            "[%] Downloading Image #41 from https://weknowyourdreams.com/images/sunset/sunset-02.jpg\n",
            "[!] Issue getting: https://weknowyourdreams.com/images/sunset/sunset-02.jpg\n",
            "[!] Error:: <urlopen error [SSL: CERTIFICATE_VERIFY_FAILED] certificate verify failed (_ssl.c:852)>\n",
            "[%] Downloading Image #41 from https://markguliano81.files.wordpress.com/2012/03/capesunset2011alow1.jpg\n",
            "[%] File Downloaded !\n",
            "\n",
            "[%] Downloading Image #42 from https://wallup.net/wp-content/uploads/2018/03/19/590356-nature-water-beach-sunset.jpg\n",
            "[%] File Downloaded !\n",
            "\n",
            "[%] Downloading Image #43 from http://3.bp.blogspot.com/-62ImkQMnS4g/VVIF46VhJUI/AAAAAAAAB_0/1MsxI2g-Q1A/s1600/beautiful-beach-sunset-wallpapers-top-desktop-background-widescreen.jpg\n",
            "[%] File Downloaded !\n",
            "\n",
            "[%] Downloading Image #44 from https://www.holidayhypermarket.co.uk/hype/wp-content/uploads/2015/02/Sunset-1024x683.jpg\n",
            "[%] File Downloaded !\n",
            "\n",
            "[%] Downloading Image #45 from http://weknowyourdreams.com/images/sunset/sunset-09.jpg\n",
            "[%] File Downloaded !\n",
            "\n",
            "[%] Downloading Image #46 from http://getwallpapers.com/wallpaper/full/0/4/4/338635.jpg\n",
            "[%] File Downloaded !\n",
            "\n",
            "[%] Downloading Image #47 from https://jooinn.com/images/westcoast-sunset-1.jpg\n",
            "[%] File Downloaded !\n",
            "\n",
            "[%] Downloading Image #48 from https://img.xcitefun.net/users/2014/07/359039,xcitefun-sunset-beach-4.jpg\n",
            "[%] File Downloaded !\n",
            "\n",
            "[%] Downloading Image #49 from https://images.wallpaperscraft.com/image/sunset_sky_clouds_121865_1080x1920.jpg\n",
            "[Error]Invalid image, not saving https://images.wallpaperscraft.com/image/sunset_sky_clouds_121865_1080x1920.jpg\n",
            "\n",
            "[!] Issue getting: https://images.wallpaperscraft.com/image/sunset_sky_clouds_121865_1080x1920.jpg\n",
            "[!] Error:: No active exception to reraise\n",
            "[%] Downloading Image #49 from https://weneedfun.com/wp-content/uploads/2016/08/Beautiful-Ocean-Sunrise-Sunset-Photos-9.jpg\n",
            "[%] File Downloaded !\n",
            "\n",
            "[%] Downloading Image #50 from https://wallpapertag.com/wallpaper/full/2/5/d/670937-beautiful-sunset-wallpapers-1920x1200-photo.jpg\n",
            "[%] File Downloaded !\n",
            "\n",
            "[%] Downloading Image #51 from http://htc-wallpaper.com/wp-content/uploads/2014/08/Sea-sunset.jpg\n",
            "[%] File Downloaded !\n",
            "\n",
            "[%] Downloading Image #52 from https://wallup.net/wp-content/uploads/2015/12/143992-landscape-sunset-lightning.jpg\n",
            "[%] File Downloaded !\n",
            "\n",
            "[%] Downloading Image #53 from https://images.fineartamerica.com/images/artworkimages/mediumlarge/1/tropical-sunset-vertical-parker-cunningham.jpg\n",
            "[%] File Downloaded !\n",
            "\n",
            "[%] Downloading Image #54 from https://images.wallpaperscraft.com/image/sunset_horizon_sea_127783_3840x2160.jpg\n",
            "[Error]Invalid image, not saving https://images.wallpaperscraft.com/image/sunset_horizon_sea_127783_3840x2160.jpg\n",
            "\n",
            "[!] Issue getting: https://images.wallpaperscraft.com/image/sunset_horizon_sea_127783_3840x2160.jpg\n",
            "[!] Error:: No active exception to reraise\n",
            "[%] Downloading Image #54 from https://cdn.water-sports-bali.com/wp-content/uploads/2016/05/10-Best-Beach-To-Watch-Sunset-In-Bali-Facebook.jpg\n",
            "[%] File Downloaded !\n",
            "\n",
            "[%] Downloading Image #55 from http://thewowstyle.com/wp-content/uploads/2015/04/1522347sunrise-sunset.jpg\n",
            "[%] File Downloaded !\n",
            "\n",
            "[%] Downloading Image #56 from https://www.publicdomainpictures.net/pictures/50000/velka/sunset-background-1371188975Z2h.jpg\n",
            "[%] File Downloaded !\n",
            "\n",
            "[%] Downloading Image #57 from http://thedook.com/365/wp-content/uploads/2017/11/ocean-sunset-florida-fine-art-long-exposure-photography.jpg\n",
            "[%] File Downloaded !\n",
            "\n",
            "[%] Downloading Image #58 from https://www.holidaybug.co.za/wp-content/uploads/2015/04/aruba-sunset-1024x683.jpg\n",
            "[%] File Downloaded !\n",
            "\n",
            "[%] Downloading Image #59 from https://www.findingtheuniverse.com/wp-content/uploads/2012/10/Sunset-outback-australia3.jpg\n",
            "[%] File Downloaded !\n",
            "\n",
            "[%] Downloading Image #60 from https://www.visitnewquay.org/dbimgs/Fistral Beach(3).jpg\n",
            "[!] Issue getting: https://www.visitnewquay.org/dbimgs/Fistral Beach(3).jpg\n",
            "[!] Error:: URL can't contain control characters. '/dbimgs/Fistral Beach(3).jpg' (found at least ' ')\n",
            "[%] Downloading Image #60 from https://4.bp.blogspot.com/-kZgeuc09Mts/TqvMBImf18I/AAAAAAAAAJA/Y5x91bIpRr0/s1600/Sunset-orange-2000.jpg\n",
            "[%] File Downloaded !\n",
            "\n",
            "[%] Downloading Image #61 from https://www.discovermuskoka.ca/content/uploads/sunset-header-image.jpg\n",
            "[%] File Downloaded !\n",
            "\n",
            "[%] Downloading Image #62 from https://hddesktopwallpapers.in/wp-content/uploads/2015/09/sunset-images-purple-beach.jpg\n",
            "[%] File Downloaded !\n",
            "\n",
            "\n",
            "\n",
            "[!!]Indexing page: 2\n",
            "\n",
            "[%] Indexed 35 Images on Page 2.\n",
            "\n",
            "===============================================\n",
            "\n",
            "[%] Downloading Image #63 from https://images.freecreatives.com/wp-content/uploads/2015/10/amazing-ocean-sunset-wallpaper.jpg\n",
            "[%] File Downloaded !\n",
            "\n",
            "[%] Downloading Image #64 from https://d2studios.net/wp-content/uploads/blog/2016/03/sunset.jpg\n",
            "[%] File Downloaded !\n",
            "\n",
            "[%] Downloading Image #65 from https://www.lyonsholidayparks.co.uk/wp-content/uploads/sunset.jpg\n",
            "[%] File Downloaded !\n",
            "\n",
            "[%] Downloading Image #66 from https://cdn.photographylife.com/wp-content/uploads/2017/05/img013-1200-copy.jpg\n",
            "[%] File Downloaded !\n",
            "\n",
            "[%] Downloading Image #67 from https://www.ontarioparks.com/parksblog/wp-content/uploads/2017/06/PointFarms_Sunset_.jpg\n",
            "[%] File Downloaded !\n",
            "\n",
            "[%] Downloading Image #68 from http://wallup.net/wp-content/uploads/2015/12/258088-sunset-landscape-horizon.jpg\n",
            "[%] File Downloaded !\n",
            "\n",
            "[%] Downloading Image #69 from http://3.bp.blogspot.com/-AUjnGiI32dA/Uf8aPrtdUJI/AAAAAAAAAsE/TCYC1c1ruIY/s1600/Beautiful-Sunset-Wallpaper.jpg\n",
            "[%] File Downloaded !\n",
            "\n",
            "[%] Downloading Image #70 from https://img.sunset02.com/sites/default/files/image/2016/12/main/newport-beach-sunset-1114.jpg\n",
            "[%] File Downloaded !\n",
            "\n",
            "\n",
            "\n",
            "[%] Done. Downloaded 70 images.\n",
            "\n",
            "===============================================\n",
            "\n",
            "\n",
            "\n",
            "[!!]Indexing page: 1\n",
            "\n",
            "[%] Indexed 70 Images on Page 1.\n",
            "\n",
            "===============================================\n",
            "\n",
            "[%] Downloading Image #1 from https://assets.answersingenesis.org/img/cms/content/contentnode/og_image/rainbow-meaning-on-colors-and-memes-1200x628.jpg\n",
            "[%] File Downloaded !\n",
            "\n",
            "[%] Downloading Image #2 from https://wallpapertag.com/wallpaper/full/6/6/3/654628-popular-neon-rainbow-background-designs-1920x1200-ipad-retina.jpg\n",
            "[%] File Downloaded !\n",
            "\n",
            "[%] Downloading Image #3 from https://resize.hswstatic.com/w_907/gif/rainbow-myth-7.jpg\n",
            "[%] File Downloaded !\n",
            "\n",
            "[%] Downloading Image #4 from https://www.rd.com/wp-content/uploads/2016/02/02-rainbow-facts-exist-at-night.jpg\n",
            "[%] File Downloaded !\n",
            "\n",
            "[%] Downloading Image #5 from http://images.skymetweather.com/content/wp-content/uploads/2015/07/rainbow.jpg.jpg\n",
            "[%] File Downloaded !\n",
            "\n",
            "[%] Downloading Image #6 from https://www.bwallpaperhd.com/wp-content/uploads/2019/06/DoubleRainbow.jpg\n",
            "[%] File Downloaded !\n",
            "\n",
            "[%] Downloading Image #7 from http://assets.climatecentral.org/images/made/9_5_14_Andrea_rainbowlightning_1050_700_s_c1_c_c.jpg\n",
            "[%] File Downloaded !\n",
            "\n",
            "[%] Downloading Image #8 from http://www.thisiscolossal.com/wp-content/uploads/2018/06/daniel-rainbow-og.jpg\n",
            "[%] File Downloaded !\n",
            "\n",
            "[%] Downloading Image #9 from https://upload.wikimedia.org/wikipedia/commons/5/5c/Double-alaskan-rainbow.jpg\n",
            "[%] File Downloaded !\n",
            "\n",
            "[%] Downloading Image #10 from https://us-east-1.tchyn.io/snopes-production/uploads/2017/12/rainbow_sky_fb.jpg\n",
            "[%] File Downloaded !\n",
            "\n",
            "[%] Downloading Image #11 from https://weneedfun.com/wp-content/uploads/2016/02/Waterfall-And-Rainbow-Wallpapers-7.jpg\n",
            "[%] File Downloaded !\n",
            "\n",
            "[%] Downloading Image #12 from https://wallpapertag.com/wallpaper/middle/6/6/3/654628-popular-neon-rainbow-background-designs-1920x1200-ipad-retina.jpg\n",
            "[%] File Downloaded !\n",
            "\n",
            "[%] Downloading Image #13 from https://htc-wallpaper.com/wp-content/uploads/2014/07/Rainbow-texture.jpg\n",
            "[%] File Downloaded !\n",
            "\n",
            "[%] Downloading Image #14 from https://www.ibelieveinmothernature.com/wp-content/uploads/2020/03/amazing-clouds-fb.jpg\n",
            "[%] File Downloaded !\n",
            "\n",
            "[%] Downloading Image #15 from https://images.designtrends.com/wp-content/uploads/2016/03/29084542/Abstract-rainbow-Art-Circle-Background.jpg\n",
            "[%] File Downloaded !\n",
            "\n",
            "[%] Downloading Image #16 from https://media.istockphoto.com/photos/splash-of-rainbow-colors-with-a-bright-inner-light-picture-id472802324?k=6&amp;m=472802324&amp;s=170667a&amp;w=0&amp;h=c03UbTy-_CyeJsTXG5ExYrjgLe35mHTT5QqcCsLLipo=\n",
            "[%] File Downloaded !\n",
            "\n",
            "[%] Downloading Image #17 from https://i.huffpost.com/gen/1371995/thumbs/o-RAINBOW-HAWAII-900.jpg?1\n",
            "[%] File Downloaded !\n",
            "\n",
            "[%] Downloading Image #18 from https://upload.wikimedia.org/wikipedia/commons/thumb/c/c9/Rainbow-diagram-ROYGBIV.svg/1200px-Rainbow-diagram-ROYGBIV.svg.png\n",
            "[%] File Downloaded !\n",
            "\n",
            "[%] Downloading Image #19 from https://pinebanana.files.wordpress.com/2011/04/rainbow.jpg\n",
            "[%] File Downloaded !\n",
            "\n",
            "[%] Downloading Image #20 from https://www.psdgraphics.com/file/2018/colorful-rainbow-twirl.jpg\n",
            "[%] File Downloaded !\n",
            "\n",
            "[%] Downloading Image #21 from https://ak.picdn.net/shutterstock/videos/7820524/thumb/1.jpg\n",
            "[%] File Downloaded !\n",
            "\n",
            "[%] Downloading Image #22 from https://upload.wikimedia.org/wikipedia/commons/thumb/3/31/Rainbow-gradient-fully-saturated.svg/1200px-Rainbow-gradient-fully-saturated.svg.png\n",
            "[%] File Downloaded !\n",
            "\n",
            "[%] Downloading Image #23 from https://i0.wp.com/listamaze.com/wp-content/uploads/2020/07/Supernumerary-Rainbow.jpg?w=648&amp;ssl=1\n",
            "[!] Issue getting: https://i0.wp.com/listamaze.com/wp-content/uploads/2020/07/Supernumerary-Rainbow.jpg?w=648&amp;ssl=1\n",
            "[!] Error:: HTTP Error 400: Bad Request\n",
            "[%] Downloading Image #23 from https://weknowyourdreams.com/images/rainbow/rainbow-12.jpg\n",
            "[!] Issue getting: https://weknowyourdreams.com/images/rainbow/rainbow-12.jpg\n",
            "[!] Error:: <urlopen error [SSL: CERTIFICATE_VERIFY_FAILED] certificate verify failed (_ssl.c:852)>\n",
            "[%] Downloading Image #23 from https://images.freecreatives.com/wp-content/uploads/2016/05/Beautiful-Colorful-Rainbow-Photography.jpg\n",
            "[%] File Downloaded !\n",
            "\n",
            "[%] Downloading Image #24 from https://weknowyourdreams.com/images/rainbow/rainbow-04.jpg\n",
            "[!] Issue getting: https://weknowyourdreams.com/images/rainbow/rainbow-04.jpg\n",
            "[!] Error:: <urlopen error [SSL: CERTIFICATE_VERIFY_FAILED] certificate verify failed (_ssl.c:852)>\n",
            "[%] Downloading Image #24 from https://www.wmcactionnews5.com/resizer/7OM2P5bbvZwRRFc9ggtun0VGIyk=/1200x0/arc-anglerfish-arc2-prod-raycom.s3.amazonaws.com/public/CUXAMLN7AJDMFA3OJW4K2C7G4A.jpg\n",
            "[%] File Downloaded !\n",
            "\n",
            "[%] Downloading Image #25 from https://1187604958.rsc.cdn77.org/data/images/full/70833/double-rainbow-jpg.jpg\n",
            "[%] File Downloaded !\n",
            "\n",
            "[%] Downloading Image #26 from https://interwebs.store/wp-content/uploads/2018/05/Rainbow-Neon-Wall-Light.jpg\n",
            "[%] File Downloaded !\n",
            "\n",
            "[%] Downloading Image #27 from https://www.straitstimes.com/sites/default/files/articles/2017/02/21/red-rainbow.jpg\n",
            "[%] File Downloaded !\n",
            "\n",
            "[%] Downloading Image #28 from http://4.bp.blogspot.com/_hdu-trn8jPc/SZyPreKIfGI/AAAAAAAAB0M/PRvy3JTuJmo/w1200-h630-p-k-no-nu/90813874_P3d3mt4L_DesertRainbow_76809.jpg\n",
            "[%] File Downloaded !\n",
            "\n",
            "[%] Downloading Image #29 from https://get.wallhere.com/photo/sunlight-nature-sky-field-rainbows-atmosphere-flower-grassland-rainbow-meadow-meteorological-phenomenon-32808.jpg\n",
            "[Error]Invalid image, not saving https://get.wallhere.com/photo/sunlight-nature-sky-field-rainbows-atmosphere-flower-grassland-rainbow-meadow-meteorological-phenomenon-32808.jpg\n",
            "\n",
            "[!] Issue getting: https://get.wallhere.com/photo/sunlight-nature-sky-field-rainbows-atmosphere-flower-grassland-rainbow-meadow-meteorological-phenomenon-32808.jpg\n",
            "[!] Error:: No active exception to reraise\n",
            "[%] Downloading Image #29 from https://cdn.hswstatic.com/gif/triple-rainbow-possibility-orig.jpg\n",
            "[%] File Downloaded !\n",
            "\n",
            "[%] Downloading Image #30 from https://printcessandpuddinvinyl.com/wp-content/uploads/2018/09/hot-foil-rainbow.jpg\n",
            "[%] File Downloaded !\n",
            "\n",
            "[%] Downloading Image #31 from https://cdn.suwalls.com/wallpapers/3d/rainbow-rings-22860-1920x1200.jpg\n",
            "[%] File Downloaded !\n",
            "\n",
            "[%] Downloading Image #32 from https://www.sciencenews.org/wp-content/uploads/2015/12/121715_ts_rainbow_free.jpg\n",
            "[%] File Downloaded !\n",
            "\n",
            "[%] Downloading Image #33 from https://cdn.images.express.co.uk/img/dynamic/153/590x/secondary/uk-weather-rainbow-1597638.jpg?r=1542139856820\n",
            "[%] File Downloaded !\n",
            "\n",
            "[%] Downloading Image #34 from http://www.robertleefulghum.com/wp-content/uploads/2017/01/rainbow-double.jpg\n",
            "[%] File Downloaded !\n",
            "\n",
            "[%] Downloading Image #35 from http://earthsci.org/processes/weather/rainbow/rainbow.jpg\n",
            "[%] File Downloaded !\n",
            "\n",
            "[%] Downloading Image #36 from http://www.fitocracy.com/knowledge/wp-content/uploads/2014/10/rainbow.jpg\n",
            "[%] File Downloaded !\n",
            "\n",
            "[%] Downloading Image #37 from https://upload.wikimedia.org/wikipedia/commons/thumb/e/e8/Rainbow_diagram.svg/1200px-Rainbow_diagram.svg.png\n",
            "[%] File Downloaded !\n",
            "\n",
            "[%] Downloading Image #38 from http://ixd.prattsi.org/wp-content/uploads/2019/11/YFiwn.png\n",
            "[%] File Downloaded !\n",
            "\n",
            "[%] Downloading Image #39 from http://www.paigedavis.com/wp-content/uploads/2014/06/RainbowConnection.jpg\n",
            "[%] File Downloaded !\n",
            "\n",
            "[%] Downloading Image #40 from http://www.hdwallpaperspulse.com/wp-content/uploads/2016/04/13/full-hd-rainbow-pictures.jpeg\n",
            "[%] File Downloaded !\n",
            "\n",
            "[%] Downloading Image #41 from https://thewisemarketer.com/wp-content/uploads/2019/07/working-the-rainbow.jpg\n",
            "[%] File Downloaded !\n",
            "\n",
            "[%] Downloading Image #42 from https://upload.wikimedia.org/wikipedia/commons/thumb/3/31/Rainbow-gradient-fully-saturated.svg/600px-Rainbow-gradient-fully-saturated.svg.png\n",
            "[%] File Downloaded !\n",
            "\n",
            "[%] Downloading Image #43 from https://www.wallpapersin4k.org/wp-content/uploads/2017/04/Rainbow-Iphone-Wallpaper-19.jpg\n",
            "[%] File Downloaded !\n",
            "\n",
            "[%] Downloading Image #44 from https://pngimg.com/uploads/rainbow/rainbow_PNG5574.png\n",
            "[%] File Downloaded !\n",
            "\n",
            "[%] Downloading Image #45 from https://images.template.net/wp-content/uploads/2016/05/12052056/Rainbow-Backgrounds.jpg\n",
            "[%] File Downloaded !\n",
            "\n",
            "[%] Downloading Image #46 from https://upload.wikimedia.org/wikipedia/commons/thumb/2/27/Rainbow-gradient-seamless.svg/1200px-Rainbow-gradient-seamless.svg.png\n",
            "[%] File Downloaded !\n",
            "\n",
            "[%] Downloading Image #47 from http://b.rgbimg.com/cache1nhWpS/users/x/xy/xymonau/600/2dyWdGi.jpg\n",
            "[%] File Downloaded !\n",
            "\n",
            "[%] Downloading Image #48 from https://ctl.s6img.com/society6/img/hDm5jCMTXsLdsLG70GuXmXHe1Zc/w_700/prints/~artwork/s6-0002/asset_11/238441_Y2dItfrf6y/~~/rainbow-wallpaper-prints.jpg\n",
            "[Error]Invalid image, not saving https://ctl.s6img.com/society6/img/hDm5jCMTXsLdsLG70GuXmXHe1Zc/w_700/prints/~artwork/s6-0002/asset_11/238441_Y2dItfrf6y/~~/rainbow-wallpaper-prints.jpg\n",
            "\n",
            "[!] Issue getting: https://ctl.s6img.com/society6/img/hDm5jCMTXsLdsLG70GuXmXHe1Zc/w_700/prints/~artwork/s6-0002/asset_11/238441_Y2dItfrf6y/~~/rainbow-wallpaper-prints.jpg\n",
            "[!] Error:: No active exception to reraise\n",
            "[%] Downloading Image #48 from https://earthsky.org/upl/2017/07/rainbow-supernumerary-7-8-2017-Alexander-Krivenyshev-NYC-e1499683295780.jpg\n",
            "[%] File Downloaded !\n",
            "\n",
            "[%] Downloading Image #49 from https://www.pentaxforums.com/forums/attachments/12-post-your-photos/97185d1310450471-landscape-rainbow-sunset-rainbow-sunset.jpg\n",
            "[%] File Downloaded !\n",
            "\n",
            "[%] Downloading Image #50 from https://upload.wikimedia.org/wikipedia/commons/thumb/0/07/1330px_Rainbow_flag_12_colours_black_bordered.svg/1200px-1330px_Rainbow_flag_12_colours_black_bordered.svg.png\n",
            "[%] File Downloaded !\n",
            "\n",
            "[%] Downloading Image #51 from https://strangesounds.org/wp-content/uploads/2016/10/unusual-multiple-rainbow-norway.jpg\n",
            "[%] File Downloaded !\n",
            "\n",
            "[%] Downloading Image #52 from http://www.bitrebels.com/wp-content/uploads/2011/04/rainbow-after-the-rain.jpg\n",
            "[%] File Downloaded !\n",
            "\n",
            "[%] Downloading Image #53 from https://static.billboard.com/files/media/rainbow-2018-billboard-1548-1024x677.jpg\n",
            "[%] File Downloaded !\n",
            "\n",
            "[%] Downloading Image #54 from https://crazy-frankenstein.com/free-wallpapers-files/nature-wallpapers/rainbows-wallpapers/perfect-rainbow-wallpaper.jpg\n",
            "[%] File Downloaded !\n",
            "\n",
            "[%] Downloading Image #55 from https://weneedfun.com/wp-content/uploads/2016/02/Waterfall-And-Rainbow-Wallpapers-6.jpg\n",
            "[%] File Downloaded !\n",
            "\n",
            "[%] Downloading Image #56 from https://images.wallpaperscraft.com/image/lines_multicolored_rainbow_125651_2560x1440.jpg\n",
            "[Error]Invalid image, not saving https://images.wallpaperscraft.com/image/lines_multicolored_rainbow_125651_2560x1440.jpg\n",
            "\n",
            "[!] Issue getting: https://images.wallpaperscraft.com/image/lines_multicolored_rainbow_125651_2560x1440.jpg\n",
            "[!] Error:: No active exception to reraise\n",
            "[%] Downloading Image #56 from https://d2rd7etdn93tqb.cloudfront.net/wp-content/uploads/2019/04/which-color-of-the-rainbow-are-you-quiz-social-040219.jpg\n",
            "[%] File Downloaded !\n",
            "\n",
            "[%] Downloading Image #57 from https://unitedwithisrael.org/wp-content/uploads/2015/10/shutterstock_236018026-890x400.jpg\n",
            "[%] File Downloaded !\n",
            "\n",
            "[%] Downloading Image #58 from https://cdn.shopify.com/s/files/1/1061/1924/products/Rainbow_emoji_icon_png_grande.png?v=1480481020\n",
            "[%] File Downloaded !\n",
            "\n",
            "[%] Downloading Image #59 from https://6pointsscitech.org/wp-content/uploads/sites/82/2017/08/Circular-Rainbow.jpg\n",
            "[%] File Downloaded !\n",
            "\n",
            "[%] Downloading Image #60 from https://news.nationalgeographic.com/content/dam/news/2015/04/22/quadruplerainbow.ngsversion.1429739695352.adapt.1900.1.jpg\n",
            "[%] File Downloaded !\n",
            "\n",
            "[%] Downloading Image #61 from https://www.downloadclipart.net/large/1154-rainbow-design.png\n",
            "[%] File Downloaded !\n",
            "\n",
            "[%] Downloading Image #62 from https://www.crystalinks.com/ReflectionRainbow.jpg\n",
            "[%] File Downloaded !\n",
            "\n",
            "[%] Downloading Image #63 from http://www.gabriellesadventures.com/wp-content/uploads/2014/07/double-rainbow.jpg\n",
            "[%] File Downloaded !\n",
            "\n",
            "[%] Downloading Image #64 from http://wallpup.com/wp-content/uploads/2013/03/Rainbow-Wallpaper.jpg\n",
            "[%] File Downloaded !\n",
            "\n",
            "\n",
            "\n",
            "[!!]Indexing page: 2\n",
            "\n",
            "[%] Indexed 35 Images on Page 2.\n",
            "\n",
            "===============================================\n",
            "\n",
            "[%] Downloading Image #65 from https://upload.wikimedia.org/wikipedia/commons/5/5c/Double-alaskan-rainbow.jpg\n",
            "[%] File Downloaded !\n",
            "\n",
            "[%] Downloading Image #66 from https://www.rd.com/wp-content/uploads/2016/02/02-rainbow-facts-exist-at-night.jpg\n",
            "[%] File Downloaded !\n",
            "\n",
            "[%] Downloading Image #67 from https://wallpapertag.com/wallpaper/full/6/6/3/654628-popular-neon-rainbow-background-designs-1920x1200-ipad-retina.jpg\n",
            "[%] File Downloaded !\n",
            "\n",
            "[%] Downloading Image #68 from https://upload.wikimedia.org/wikipedia/commons/thumb/c/c9/Rainbow-diagram-ROYGBIV.svg/1200px-Rainbow-diagram-ROYGBIV.svg.png\n",
            "[%] File Downloaded !\n",
            "\n",
            "[%] Downloading Image #69 from https://www.bwallpaperhd.com/wp-content/uploads/2019/06/DoubleRainbow.jpg\n",
            "[%] File Downloaded !\n",
            "\n",
            "[%] Downloading Image #70 from https://us-east-1.tchyn.io/snopes-production/uploads/2017/12/rainbow_sky_fb.jpg\n",
            "[%] File Downloaded !\n",
            "\n",
            "\n",
            "\n",
            "[%] Done. Downloaded 70 images.\n",
            "\n",
            "===============================================\n",
            "\n",
            "time: 2min 10s (started: 2021-02-22 08:50:59 +00:00)\n"
          ],
          "name": "stdout"
        }
      ]
    },
    {
      "cell_type": "code",
      "metadata": {
        "colab": {
          "base_uri": "https://localhost:8080/"
        },
        "id": "U3_8As-1FzEI",
        "outputId": "32386c71-906c-44b1-b847-c39fbaef989a"
      },
      "source": [
        "# Preprocessing DATA\r\n",
        "# 1. Resize\r\n",
        "# 2. Flatten\r\n",
        "\r\n",
        "import os\r\n",
        "import matplotlib.pyplot as plt \r\n",
        "import numpy as np\r\n",
        "from skimage.io import imread\r\n",
        "from skimage.transform import resize\r\n",
        "\r\n",
        "target=[]\r\n",
        "images=[]\r\n",
        "flat_data=[]\r\n",
        "\r\n",
        "DATADIR='/content/Images'\r\n",
        "CATEGORIES=['Eagle','Sun-Set','Rainbow']\r\n",
        "\r\n",
        "for category in CATEGORIES:\r\n",
        "  class_num= CATEGORIES.index(category)\r\n",
        "  print(class_num)\r\n",
        "  path=os.path.join(DATADIR,category) #create path to use all the images\r\n",
        "  print(path)\r\n",
        "  for img in os.listdir(path):\r\n",
        "    img_array=imread(os.path.join(path,img))\r\n",
        "    img_resized= resize(img_array,(250,250,3))  \r\n",
        "    flat_data.append(img_resized.flatten())\r\n",
        "    images.append(img_resized)\r\n",
        "    target.append(class_num)\r\n",
        "  \r\n",
        "flat_data=np.array(flat_data)\r\n",
        "target=np.array(target)\r\n",
        "images=np.array(images)"
      ],
      "execution_count": 4,
      "outputs": [
        {
          "output_type": "stream",
          "text": [
            "0\n",
            "/content/Images/Eagle\n",
            "1\n",
            "/content/Images/Sun-Set\n",
            "2\n",
            "/content/Images/Rainbow\n",
            "time: 1min 53s (started: 2021-02-22 08:53:20 +00:00)\n"
          ],
          "name": "stdout"
        }
      ]
    },
    {
      "cell_type": "code",
      "metadata": {
        "colab": {
          "base_uri": "https://localhost:8080/",
          "height": 301
        },
        "id": "jIdkIt0yFzK9",
        "outputId": "9e714ddf-0699-4075-ec32-ae0dd566b30e"
      },
      "source": [
        "unique,count=np.unique(target,return_counts=True)\r\n",
        "plt.bar(CATEGORIES,count)"
      ],
      "execution_count": 5,
      "outputs": [
        {
          "output_type": "execute_result",
          "data": {
            "text/plain": [
              "<BarContainer object of 3 artists>"
            ]
          },
          "metadata": {
            "tags": []
          },
          "execution_count": 5
        },
        {
          "output_type": "display_data",
          "data": {
            "image/png": "[encoded data removed]",
            "text/plain": [
              "<Figure size 432x288 with 1 Axes>"
            ]
          },
          "metadata": {
            "tags": [],
            "needs_background": "light"
          }
        },
        {
          "output_type": "stream",
          "text": [
            "time: 167 ms (started: 2021-02-22 08:55:20 +00:00)\n"
          ],
          "name": "stdout"
        }
      ]
    },
    {
      "cell_type": "code",
      "metadata": {
        "id": "P2w6LDPxFzNS",
        "colab": {
          "base_uri": "https://localhost:8080/"
        },
        "outputId": "6193162f-9753-4868-f0e1-a5978e76c567"
      },
      "source": [
        "# Split data into Training ang Testing\r\n",
        "\r\n",
        "from sklearn.model_selection import train_test_split\r\n",
        "x_train,x_test,y_train,y_test = train_test_split(flat_data,target,test_size=0.4,random_state=100)"
      ],
      "execution_count": 6,
      "outputs": [
        {
          "output_type": "stream",
          "text": [
            "time: 308 ms (started: 2021-02-22 08:55:25 +00:00)\n"
          ],
          "name": "stdout"
        }
      ]
    },
    {
      "cell_type": "code",
      "metadata": {
        "colab": {
          "base_uri": "https://localhost:8080/"
        },
        "id": "MugokV4GFzPu",
        "outputId": "f0c85caf-3ee8-4e0b-a8bd-b3b26e2bff55"
      },
      "source": [
        "# Applying classification algorithm - SVM Algorithm\r\n",
        "# Using GridSearchCV\r\n",
        "\r\n",
        "from sklearn.model_selection import GridSearchCV\r\n",
        "from sklearn import svm\r\n",
        "param_grid=[\r\n",
        "            {'C':[1,10,100,1000],'kernel':['linear']},\r\n",
        "            {'C':[1,10,100,1000],'gamma':[0.001,0.0001],'kernel':['rbf']},\r\n",
        "]\r\n",
        "\r\n",
        "svc=svm.SVC(probability=True)\r\n",
        "clf=GridSearchCV(svc,param_grid)\r\n",
        "clf.fit(x_train,y_train)"
      ],
      "execution_count": 7,
      "outputs": [
        {
          "output_type": "execute_result",
          "data": {
            "text/plain": [
              "GridSearchCV(cv=None, error_score=nan,\n",
              "             estimator=SVC(C=1.0, break_ties=False, cache_size=200,\n",
              "                           class_weight=None, coef0=0.0,\n",
              "                           decision_function_shape='ovr', degree=3,\n",
              "                           gamma='scale', kernel='rbf', max_iter=-1,\n",
              "                           probability=True, random_state=None, shrinking=True,\n",
              "                           tol=0.001, verbose=False),\n",
              "             iid='deprecated', n_jobs=None,\n",
              "             param_grid=[{'C': [1, 10, 100, 1000], 'kernel': ['linear']},\n",
              "                         {'C': [1, 10, 100, 1000], 'gamma': [0.001, 0.0001],\n",
              "                          'kernel': ['rbf']}],\n",
              "             pre_dispatch='2*n_jobs', refit=True, return_train_score=False,\n",
              "             scoring=None, verbose=0)"
            ]
          },
          "metadata": {
            "tags": []
          },
          "execution_count": 7
        },
        {
          "output_type": "stream",
          "text": [
            "time: 21min 35s (started: 2021-02-22 08:55:27 +00:00)\n"
          ],
          "name": "stdout"
        }
      ]
    },
    {
      "cell_type": "code",
      "metadata": {
        "id": "9CMvtmtRFzSA",
        "colab": {
          "base_uri": "https://localhost:8080/"
        },
        "outputId": "ca48b584-f344-40c4-9eff-17f459c76e4f"
      },
      "source": [
        "y_pred=clf.predict(x_test)\r\n",
        "print(\"Original Values\",y_test)\r\n",
        "print(\"Predicted Values\",y_pred)"
      ],
      "execution_count": 8,
      "outputs": [
        {
          "output_type": "stream",
          "text": [
            "Original Values [2 2 0 2 1 0 2 1 2 2 1 1 1 0 1 0 2 1 0 2 1 1 1 1 2 2 1 2 0 0 2 0 2 2 1 2 2\n",
            " 2 2 1 1 0 1 1 0 2 0 2 2 1 0 2 2 2 0 2 2 0 0 1 0 1 1 0 2 0 1 1 2 1 2 1 1 2\n",
            " 1 2 0 0 2 1 1 2 2 0]\n",
            "Predicted Values [2 2 0 0 1 0 2 1 0 2 1 1 1 0 2 0 2 1 0 2 1 1 1 1 0 0 0 2 0 0 0 0 1 2 2 2 2\n",
            " 2 2 1 1 0 2 1 0 1 2 2 2 1 2 2 2 0 0 2 2 0 0 1 0 1 0 0 2 0 1 1 0 1 2 1 1 2\n",
            " 1 0 2 0 2 0 1 0 2 0]\n",
            "time: 3.14 s (started: 2021-02-22 09:18:05 +00:00)\n"
          ],
          "name": "stdout"
        }
      ]
    },
    {
      "cell_type": "code",
      "metadata": {
        "colab": {
          "base_uri": "https://localhost:8080/"
        },
        "id": "Z-1dtqmhFzXe",
        "outputId": "991d1725-e0a2-4e15-d380-43442c61adb3"
      },
      "source": [
        "# Evaluating the model\r\n",
        "\r\n",
        "from sklearn.metrics import accuracy_score,confusion_matrix\r\n",
        "\r\n",
        "acc=accuracy_score(y_pred,y_test)\r\n",
        "\r\n",
        "print(\"Accuracy in % is\",acc*100)"
      ],
      "execution_count": 9,
      "outputs": [
        {
          "output_type": "stream",
          "text": [
            "Accuracy in % is 76.19047619047619\n",
            "time: 7.31 ms (started: 2021-02-22 09:18:11 +00:00)\n"
          ],
          "name": "stdout"
        }
      ]
    },
    {
      "cell_type": "code",
      "metadata": {
        "colab": {
          "base_uri": "https://localhost:8080/"
        },
        "id": "D0twTv1_Gq96",
        "outputId": "79ede335-6014-40d3-c160-97c925ebb9dd"
      },
      "source": [
        "confusion_matrix(y_pred,y_test)"
      ],
      "execution_count": 10,
      "outputs": [
        {
          "output_type": "execute_result",
          "data": {
            "text/plain": [
              "array([[18,  3,  9],\n",
              "       [ 0, 23,  2],\n",
              "       [ 3,  3, 23]])"
            ]
          },
          "metadata": {
            "tags": []
          },
          "execution_count": 10
        },
        {
          "output_type": "stream",
          "text": [
            "time: 5.35 ms (started: 2021-02-22 09:18:34 +00:00)\n"
          ],
          "name": "stdout"
        }
      ]
    },
    {
      "cell_type": "code",
      "metadata": {
        "id": "_4l11KqgGue4",
        "colab": {
          "base_uri": "https://localhost:8080/"
        },
        "outputId": "0274e4cf-3919-4922-b0b8-79d0f1a939fc"
      },
      "source": [
        "# Save the model using pickle lib\r\n",
        "import pickle\r\n",
        "pickle.dump(clf,open('img_model.p','wb'))"
      ],
      "execution_count": 11,
      "outputs": [
        {
          "output_type": "stream",
          "text": [
            "time: 974 ms (started: 2021-02-22 09:18:39 +00:00)\n"
          ],
          "name": "stdout"
        }
      ]
    },
    {
      "cell_type": "code",
      "metadata": {
        "id": "9DvJYKAsGvDj",
        "colab": {
          "base_uri": "https://localhost:8080/"
        },
        "outputId": "ef992823-d285-4a94-872e-c44e6a188619"
      },
      "source": [
        "model= pickle.load(open('img_model.p','rb'))"
      ],
      "execution_count": 12,
      "outputs": [
        {
          "output_type": "stream",
          "text": [
            "time: 178 ms (started: 2021-02-22 09:18:43 +00:00)\n"
          ],
          "name": "stdout"
        }
      ]
    },
    {
      "cell_type": "code",
      "metadata": {
        "id": "_c4fVEVHGxr9",
        "colab": {
          "base_uri": "https://localhost:8080/",
          "height": 340
        },
        "outputId": "318774e6-46c0-4612-fa12-bed083bbe23f"
      },
      "source": [
        "# Predicting for a new image\r\n",
        "\r\n",
        "flat_data=[]\r\n",
        "url=input('Enter your url')\r\n",
        "img=imread(url)\r\n",
        "img_resized=resize(img,(250,250,3))\r\n",
        "flat_data.append(img_resized.flatten())\r\n",
        "flat_data=np.array(flat_data)\r\n",
        "print(img.shape)\r\n",
        "plt.imshow(img_resized)\r\n",
        "y_out=model.predict(flat_data)\r\n",
        "y_out=CATEGORIES[y_out[0]]\r\n",
        "print(f'Predicted Output:{y_out}')"
      ],
      "execution_count": 51,
      "outputs": [
        {
          "output_type": "stream",
          "text": [
            "Enter your urlhttps://encrypted-tbn0.gstatic.com/images?q=tbn:ANd9GcSfx7gEQ7bPyDPbUJ8lA3w4q6-g6tG7PrBXJw&usqp=CAU\n",
            "(183, 275, 3)\n",
            "Predicted Output:Sun-Set\n"
          ],
          "name": "stdout"
        },
        {
          "output_type": "display_data",
          "data": {
            "image/png": "[encoded data removed]",
            "text/plain": [
              "<Figure size 432x288 with 1 Axes>"
            ]
          },
          "metadata": {
            "tags": [],
            "needs_background": "light"
          }
        },
        {
          "output_type": "stream",
          "text": [
            "time: 3.28 s (started: 2021-02-22 09:48:54 +00:00)\n"
          ],
          "name": "stdout"
        }
      ]
    },
    {
      "cell_type": "code",
      "metadata": {
        "colab": {
          "base_uri": "https://localhost:8080/",
          "height": 1000
        },
        "id": "U5UL-swFNpnE",
        "outputId": "54c2c505-cd7f-4d07-9bec-e7e8e162cc4a"
      },
      "source": [
        "# Deployment\r\n",
        "# WebApp - Streamlit/Dash\r\n",
        "\r\n",
        "!pip install streamlit\r\n",
        "!pip install pyngrok==4.1.1\r\n",
        "from pyngrok import ngrok"
      ],
      "execution_count": 52,
      "outputs": [
        {
          "output_type": "stream",
          "text": [
            "Collecting streamlit\n",
            "\u001b[?25l  Downloading https://files.pythonhosted.org/packages/b2/97/ae3c52932853399cc748e4f3e4947659b0b487fad3a4df391557442a92db/streamlit-0.76.0-py2.py3-none-any.whl (7.5MB)\n",
            "\u001b[K     |████████████████████████████████| 7.5MB 7.5MB/s \n",
            "\u001b[?25hRequirement already satisfied: altair>=3.2.0 in /usr/local/lib/python3.6/dist-packages (from streamlit) (4.1.0)\n",
            "Requirement already satisfied: pandas>=0.21.0 in /usr/local/lib/python3.6/dist-packages (from streamlit) (1.1.5)\n",
            "Requirement already satisfied: protobuf!=3.11,>=3.6.0 in /usr/local/lib/python3.6/dist-packages (from streamlit) (3.12.4)\n",
            "Requirement already satisfied: python-dateutil in /usr/local/lib/python3.6/dist-packages (from streamlit) (2.8.1)\n",
            "Collecting base58\n",
            "  Downloading https://files.pythonhosted.org/packages/b8/a1/d9f565e9910c09fd325dc638765e8843a19fa696275c16cc08cf3b0a3c25/base58-2.1.0-py3-none-any.whl\n",
            "Requirement already satisfied: numpy in /usr/local/lib/python3.6/dist-packages (from streamlit) (1.19.5)\n",
            "Requirement already satisfied: toml in /usr/local/lib/python3.6/dist-packages (from streamlit) (0.10.2)\n",
            "Collecting blinker\n",
            "\u001b[?25l  Downloading https://files.pythonhosted.org/packages/1b/51/e2a9f3b757eb802f61dc1f2b09c8c99f6eb01cf06416c0671253536517b6/blinker-1.4.tar.gz (111kB)\n",
            "\u001b[K     |████████████████████████████████| 112kB 42.8MB/s \n",
            "\u001b[?25hRequirement already satisfied: cachetools>=4.0 in /usr/local/lib/python3.6/dist-packages (from streamlit) (4.2.1)\n",
            "Collecting pydeck>=0.1.dev5\n",
            "\u001b[?25l  Downloading https://files.pythonhosted.org/packages/1c/3f/8f04ae0c22d82ec7bec7fcc03270a142f637e362bbd285f7daeeda24fbef/pydeck-0.6.1-py2.py3-none-any.whl (4.6MB)\n",
            "\u001b[K     |████████████████████████████████| 4.6MB 48.4MB/s \n",
            "\u001b[?25hCollecting watchdog; platform_system != \"Darwin\"\n",
            "\u001b[?25l  Downloading https://files.pythonhosted.org/packages/f8/29/21ce5a06261a729e9336fa86dc52625dfcecf9b07151be2c92436863943a/watchdog-2.0.1-py3-none-manylinux2014_x86_64.whl (74kB)\n",
            "\u001b[K     |████████████████████████████████| 81kB 9.9MB/s \n",
            "\u001b[?25hRequirement already satisfied: packaging in /usr/local/lib/python3.6/dist-packages (from streamlit) (20.9)\n",
            "Requirement already satisfied: astor in /usr/local/lib/python3.6/dist-packages (from streamlit) (0.8.1)\n",
            "Requirement already satisfied: tzlocal in /usr/local/lib/python3.6/dist-packages (from streamlit) (1.5.1)\n",
            "Requirement already satisfied: pyarrow; python_version < \"3.9\" in /usr/local/lib/python3.6/dist-packages (from streamlit) (0.14.1)\n",
            "Collecting gitpython\n",
            "\u001b[?25l  Downloading https://files.pythonhosted.org/packages/fb/67/47a04d8a9d7f94645676fe683f1ee3fe9be01fe407686c180768a92abaac/GitPython-3.1.13-py3-none-any.whl (159kB)\n",
            "\u001b[K     |████████████████████████████████| 163kB 59.2MB/s \n",
            "\u001b[?25hCollecting validators\n",
            "  Downloading https://files.pythonhosted.org/packages/db/2f/7fed3ee94ad665ad2c1de87f858f10a7785251ff75b4fd47987888d07ef1/validators-0.18.2-py3-none-any.whl\n",
            "Requirement already satisfied: pillow>=6.2.0 in /usr/local/lib/python3.6/dist-packages (from streamlit) (7.0.0)\n",
            "Requirement already satisfied: click>=7.0 in /usr/local/lib/python3.6/dist-packages (from streamlit) (7.1.2)\n",
            "Requirement already satisfied: tornado>=5.0 in /usr/local/lib/python3.6/dist-packages (from streamlit) (5.1.1)\n",
            "Requirement already satisfied: requests in /usr/local/lib/python3.6/dist-packages (from streamlit) (2.23.0)\n",
            "Requirement already satisfied: entrypoints in /usr/local/lib/python3.6/dist-packages (from altair>=3.2.0->streamlit) (0.3)\n",
            "Requirement already satisfied: jinja2 in /usr/local/lib/python3.6/dist-packages (from altair>=3.2.0->streamlit) (2.11.3)\n",
            "Requirement already satisfied: jsonschema in /usr/local/lib/python3.6/dist-packages (from altair>=3.2.0->streamlit) (2.6.0)\n",
            "Requirement already satisfied: toolz in /usr/local/lib/python3.6/dist-packages (from altair>=3.2.0->streamlit) (0.11.1)\n",
            "Requirement already satisfied: pytz>=2017.2 in /usr/local/lib/python3.6/dist-packages (from pandas>=0.21.0->streamlit) (2018.9)\n",
            "Requirement already satisfied: setuptools in /usr/local/lib/python3.6/dist-packages (from protobuf!=3.11,>=3.6.0->streamlit) (53.0.0)\n",
            "Requirement already satisfied: six>=1.9 in /usr/local/lib/python3.6/dist-packages (from protobuf!=3.11,>=3.6.0->streamlit) (1.15.0)\n",
            "Collecting ipykernel>=5.1.2; python_version >= \"3.4\"\n",
            "\u001b[?25l  Downloading https://files.pythonhosted.org/packages/56/95/3a670c8b2c2370bd8631c313f42e60983b3113ffec4035940592252bd6d5/ipykernel-5.5.0-py3-none-any.whl (120kB)\n",
            "\u001b[K     |████████████████████████████████| 122kB 56.5MB/s \n",
            "\u001b[?25hRequirement already satisfied: traitlets>=4.3.2 in /usr/local/lib/python3.6/dist-packages (from pydeck>=0.1.dev5->streamlit) (4.3.3)\n",
            "Requirement already satisfied: ipywidgets>=7.0.0 in /usr/local/lib/python3.6/dist-packages (from pydeck>=0.1.dev5->streamlit) (7.6.3)\n",
            "Requirement already satisfied: pyparsing>=2.0.2 in /usr/local/lib/python3.6/dist-packages (from packaging->streamlit) (2.4.7)\n",
            "Collecting gitdb<5,>=4.0.1\n",
            "\u001b[?25l  Downloading https://files.pythonhosted.org/packages/48/11/d1800bca0a3bae820b84b7d813ad1eff15a48a64caea9c823fc8c1b119e8/gitdb-4.0.5-py3-none-any.whl (63kB)\n",
            "\u001b[K     |████████████████████████████████| 71kB 7.1MB/s \n",
            "\u001b[?25hRequirement already satisfied: decorator>=3.4.0 in /usr/local/lib/python3.6/dist-packages (from validators->streamlit) (4.4.2)\n",
            "Requirement already satisfied: chardet<4,>=3.0.2 in /usr/local/lib/python3.6/dist-packages (from requests->streamlit) (3.0.4)\n",
            "Requirement already satisfied: idna<3,>=2.5 in /usr/local/lib/python3.6/dist-packages (from requests->streamlit) (2.10)\n",
            "Requirement already satisfied: urllib3!=1.25.0,!=1.25.1,<1.26,>=1.21.1 in /usr/local/lib/python3.6/dist-packages (from requests->streamlit) (1.24.3)\n",
            "Requirement already satisfied: certifi>=2017.4.17 in /usr/local/lib/python3.6/dist-packages (from requests->streamlit) (2020.12.5)\n",
            "Requirement already satisfied: MarkupSafe>=0.23 in /usr/local/lib/python3.6/dist-packages (from jinja2->altair>=3.2.0->streamlit) (1.1.1)\n",
            "Requirement already satisfied: jupyter-client in /usr/local/lib/python3.6/dist-packages (from ipykernel>=5.1.2; python_version >= \"3.4\"->pydeck>=0.1.dev5->streamlit) (5.3.5)\n",
            "Requirement already satisfied: ipython>=5.0.0 in /usr/local/lib/python3.6/dist-packages (from ipykernel>=5.1.2; python_version >= \"3.4\"->pydeck>=0.1.dev5->streamlit) (5.5.0)\n",
            "Requirement already satisfied: ipython-genutils in /usr/local/lib/python3.6/dist-packages (from traitlets>=4.3.2->pydeck>=0.1.dev5->streamlit) (0.2.0)\n",
            "Requirement already satisfied: widgetsnbextension~=3.5.0 in /usr/local/lib/python3.6/dist-packages (from ipywidgets>=7.0.0->pydeck>=0.1.dev5->streamlit) (3.5.1)\n",
            "Requirement already satisfied: nbformat>=4.2.0 in /usr/local/lib/python3.6/dist-packages (from ipywidgets>=7.0.0->pydeck>=0.1.dev5->streamlit) (5.1.2)\n",
            "Requirement already satisfied: jupyterlab-widgets>=1.0.0; python_version >= \"3.6\" in /usr/local/lib/python3.6/dist-packages (from ipywidgets>=7.0.0->pydeck>=0.1.dev5->streamlit) (1.0.0)\n",
            "Collecting smmap<4,>=3.0.1\n",
            "  Downloading https://files.pythonhosted.org/packages/d5/1e/6130925131f639b2acde0f7f18b73e33ce082ff2d90783c436b52040af5a/smmap-3.0.5-py2.py3-none-any.whl\n",
            "Requirement already satisfied: jupyter-core>=4.6.0 in /usr/local/lib/python3.6/dist-packages (from jupyter-client->ipykernel>=5.1.2; python_version >= \"3.4\"->pydeck>=0.1.dev5->streamlit) (4.7.1)\n",
            "Requirement already satisfied: pyzmq>=13 in /usr/local/lib/python3.6/dist-packages (from jupyter-client->ipykernel>=5.1.2; python_version >= \"3.4\"->pydeck>=0.1.dev5->streamlit) (22.0.2)\n",
            "Requirement already satisfied: prompt-toolkit<2.0.0,>=1.0.4 in /usr/local/lib/python3.6/dist-packages (from ipython>=5.0.0->ipykernel>=5.1.2; python_version >= \"3.4\"->pydeck>=0.1.dev5->streamlit) (1.0.18)\n",
            "Requirement already satisfied: pexpect; sys_platform != \"win32\" in /usr/local/lib/python3.6/dist-packages (from ipython>=5.0.0->ipykernel>=5.1.2; python_version >= \"3.4\"->pydeck>=0.1.dev5->streamlit) (4.8.0)\n",
            "Requirement already satisfied: simplegeneric>0.8 in /usr/local/lib/python3.6/dist-packages (from ipython>=5.0.0->ipykernel>=5.1.2; python_version >= \"3.4\"->pydeck>=0.1.dev5->streamlit) (0.8.1)\n",
            "Requirement already satisfied: pygments in /usr/local/lib/python3.6/dist-packages (from ipython>=5.0.0->ipykernel>=5.1.2; python_version >= \"3.4\"->pydeck>=0.1.dev5->streamlit) (2.6.1)\n",
            "Requirement already satisfied: pickleshare in /usr/local/lib/python3.6/dist-packages (from ipython>=5.0.0->ipykernel>=5.1.2; python_version >= \"3.4\"->pydeck>=0.1.dev5->streamlit) (0.7.5)\n",
            "Requirement already satisfied: notebook>=4.4.1 in /usr/local/lib/python3.6/dist-packages (from widgetsnbextension~=3.5.0->ipywidgets>=7.0.0->pydeck>=0.1.dev5->streamlit) (5.3.1)\n",
            "Requirement already satisfied: wcwidth in /usr/local/lib/python3.6/dist-packages (from prompt-toolkit<2.0.0,>=1.0.4->ipython>=5.0.0->ipykernel>=5.1.2; python_version >= \"3.4\"->pydeck>=0.1.dev5->streamlit) (0.2.5)\n",
            "Requirement already satisfied: ptyprocess>=0.5 in /usr/local/lib/python3.6/dist-packages (from pexpect; sys_platform != \"win32\"->ipython>=5.0.0->ipykernel>=5.1.2; python_version >= \"3.4\"->pydeck>=0.1.dev5->streamlit) (0.7.0)\n",
            "Requirement already satisfied: nbconvert in /usr/local/lib/python3.6/dist-packages (from notebook>=4.4.1->widgetsnbextension~=3.5.0->ipywidgets>=7.0.0->pydeck>=0.1.dev5->streamlit) (5.6.1)\n",
            "Requirement already satisfied: Send2Trash in /usr/local/lib/python3.6/dist-packages (from notebook>=4.4.1->widgetsnbextension~=3.5.0->ipywidgets>=7.0.0->pydeck>=0.1.dev5->streamlit) (1.5.0)\n",
            "Requirement already satisfied: terminado>=0.8.1 in /usr/local/lib/python3.6/dist-packages (from notebook>=4.4.1->widgetsnbextension~=3.5.0->ipywidgets>=7.0.0->pydeck>=0.1.dev5->streamlit) (0.9.2)\n",
            "Requirement already satisfied: mistune<2,>=0.8.1 in /usr/local/lib/python3.6/dist-packages (from nbconvert->notebook>=4.4.1->widgetsnbextension~=3.5.0->ipywidgets>=7.0.0->pydeck>=0.1.dev5->streamlit) (0.8.4)\n",
            "Requirement already satisfied: testpath in /usr/local/lib/python3.6/dist-packages (from nbconvert->notebook>=4.4.1->widgetsnbextension~=3.5.0->ipywidgets>=7.0.0->pydeck>=0.1.dev5->streamlit) (0.4.4)\n",
            "Requirement already satisfied: defusedxml in /usr/local/lib/python3.6/dist-packages (from nbconvert->notebook>=4.4.1->widgetsnbextension~=3.5.0->ipywidgets>=7.0.0->pydeck>=0.1.dev5->streamlit) (0.6.0)\n",
            "Requirement already satisfied: pandocfilters>=1.4.1 in /usr/local/lib/python3.6/dist-packages (from nbconvert->notebook>=4.4.1->widgetsnbextension~=3.5.0->ipywidgets>=7.0.0->pydeck>=0.1.dev5->streamlit) (1.4.3)\n",
            "Requirement already satisfied: bleach in /usr/local/lib/python3.6/dist-packages (from nbconvert->notebook>=4.4.1->widgetsnbextension~=3.5.0->ipywidgets>=7.0.0->pydeck>=0.1.dev5->streamlit) (3.3.0)\n",
            "Requirement already satisfied: webencodings in /usr/local/lib/python3.6/dist-packages (from bleach->nbconvert->notebook>=4.4.1->widgetsnbextension~=3.5.0->ipywidgets>=7.0.0->pydeck>=0.1.dev5->streamlit) (0.5.1)\n",
            "Building wheels for collected packages: blinker\n",
            "  Building wheel for blinker (setup.py) ... \u001b[?25l\u001b[?25hdone\n",
            "  Created wheel for blinker: filename=blinker-1.4-cp36-none-any.whl size=13450 sha256=45b4706ebae1ab9ddb2963a7153834f3acfb238f7ba751258130d00961cee9f2\n",
            "  Stored in directory: /root/.cache/pip/wheels/92/a0/00/8690a57883956a301d91cf4ec999cc0b258b01e3f548f86e89\n",
            "Successfully built blinker\n",
            "\u001b[31mERROR: google-colab 1.0.0 has requirement ipykernel~=4.10, but you'll have ipykernel 5.5.0 which is incompatible.\u001b[0m\n",
            "Installing collected packages: base58, blinker, ipykernel, pydeck, watchdog, smmap, gitdb, gitpython, validators, streamlit\n",
            "  Found existing installation: ipykernel 4.10.1\n",
            "    Uninstalling ipykernel-4.10.1:\n",
            "      Successfully uninstalled ipykernel-4.10.1\n",
            "Successfully installed base58-2.1.0 blinker-1.4 gitdb-4.0.5 gitpython-3.1.13 ipykernel-5.5.0 pydeck-0.6.1 smmap-3.0.5 streamlit-0.76.0 validators-0.18.2 watchdog-2.0.1\n"
          ],
          "name": "stdout"
        },
        {
          "output_type": "display_data",
          "data": {
            "application/vnd.colab-display-data+json": {
              "pip_warning": {
                "packages": [
                  "ipykernel"
                ]
              }
            }
          },
          "metadata": {
            "tags": []
          }
        },
        {
          "output_type": "stream",
          "text": [
            "Collecting pyngrok==4.1.1\n",
            "  Downloading https://files.pythonhosted.org/packages/e4/a9/de2e15c92eb3aa4a2646ce3a7542317eb69ac47f667578ce8bf916320847/pyngrok-4.1.1.tar.gz\n",
            "Requirement already satisfied: future in /usr/local/lib/python3.6/dist-packages (from pyngrok==4.1.1) (0.16.0)\n",
            "Requirement already satisfied: PyYAML in /usr/local/lib/python3.6/dist-packages (from pyngrok==4.1.1) (3.13)\n",
            "Building wheels for collected packages: pyngrok\n",
            "  Building wheel for pyngrok (setup.py) ... \u001b[?25l\u001b[?25hdone\n",
            "  Created wheel for pyngrok: filename=pyngrok-4.1.1-cp36-none-any.whl size=15971 sha256=157b05e02331a78ba28e5e5b4872f85d85db291681dfd264eaf1a20babb9ef22\n",
            "  Stored in directory: /root/.cache/pip/wheels/97/71/0d/1695f7c8815c0beb3b5d9b35d6eec9243c87e6070fbe3977fa\n",
            "Successfully built pyngrok\n",
            "Installing collected packages: pyngrok\n",
            "Successfully installed pyngrok-4.1.1\n",
            "time: 19.2 s (started: 2021-02-22 09:49:04 +00:00)\n"
          ],
          "name": "stdout"
        }
      ]
    },
    {
      "cell_type": "code",
      "metadata": {
        "colab": {
          "base_uri": "https://localhost:8080/"
        },
        "id": "EX5ICet7NzHw",
        "outputId": "00215a87-dfcb-4dcf-eb65-e9704320e594"
      },
      "source": [
        "%%writefile app.py\r\n",
        "import streamlit as st\r\n",
        "import numpy as np\r\n",
        "from skimage.io import imread\r\n",
        "from skimage.transform import resize\r\n",
        "import pickle\r\n",
        "from PIL import Image\r\n",
        "\r\n",
        "st.title(\"IMAGE CLASSIFIER\")\r\n",
        "st.text(\"Categories: Eagle,Sun-Set,Rainbow\")\r\n",
        "st.text(\"UPLOAD IMAGE\")\r\n",
        "\r\n",
        "model= pickle.load(open('img_model.p','rb'))\r\n",
        "\r\n",
        "uploaded_file=st.file_uploader(\"Choose an image\",type=\"jpg\")\r\n",
        "if uploaded_file is not None:\r\n",
        "  img=Image.open(uploaded_file)\r\n",
        "  st.image(img,caption=\"Uploaded Image\")\r\n",
        "\r\n",
        "  if st.button(\"PREDICT\"):\r\n",
        "    CATEGORIES=['Eagle','Sun-Set','Rainbow']\r\n",
        "    st.write('RESULT')\r\n",
        "    flat_data=[]\r\n",
        "    img=np.array(img)\r\n",
        "    img_resized=resize(img,(250,250,3))\r\n",
        "    flat_data.append(img_resized.flatten())\r\n",
        "    flat_data=np.array(flat_data)\r\n",
        "    y_out=model.predict(flat_data)\r\n",
        "    y_out=CATEGORIES[y_out[0]]\r\n",
        "    st.title(f'PREDICTED OUTPUT: {y_out}')\r\n",
        "\r\n",
        "    q=model.predict_proba(flat_data)\r\n",
        "    for index,item in enumerate(CATEGORIES):\r\n",
        "      st.write(f'{item}: {q[0][index]*100}%')\r\n"
      ],
      "execution_count": 58,
      "outputs": [
        {
          "output_type": "stream",
          "text": [
            "Overwriting app.py\n",
            "time: 8.82 ms (started: 2021-02-22 09:54:40 +00:00)\n"
          ],
          "name": "stdout"
        }
      ]
    },
    {
      "cell_type": "code",
      "metadata": {
        "colab": {
          "base_uri": "https://localhost:8080/",
          "height": 53
        },
        "id": "mxHeuAZ9N3He",
        "outputId": "ae4e12af-ccdf-4668-c12d-baecda537491"
      },
      "source": [
        "!nohup streamlit run app.py & \r\n",
        "url= ngrok.connect(port='8501')\r\n",
        "url"
      ],
      "execution_count": 54,
      "outputs": [
        {
          "output_type": "stream",
          "text": [
            "nohup: appending output to 'nohup.out'\n"
          ],
          "name": "stdout"
        },
        {
          "output_type": "execute_result",
          "data": {
            "application/vnd.google.colaboratory.intrinsic+json": {
              "type": "string"
            },
            "text/plain": [
              "'http://1cebbb153d36.ngrok.io'"
            ]
          },
          "metadata": {
            "tags": []
          },
          "execution_count": 54
        },
        {
          "output_type": "stream",
          "text": [
            "time: 2.13 s (started: 2021-02-22 09:50:01 +00:00)\n"
          ],
          "name": "stdout"
        }
      ]
    }
  ]
}